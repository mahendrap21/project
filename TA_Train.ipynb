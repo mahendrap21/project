{
 "cells": [
  {
   "cell_type": "code",
   "execution_count": 22,
   "id": "cb13a283",
   "metadata": {},
   "outputs": [],
   "source": [
    "import os\n",
    "#import numpy as np\n",
    "import cv2\n",
    "#import matplotlib.pyplot as plt\n",
    "import pickle \n",
    "import random\n",
    "import matplotlib.pyplot as plt #library untuk menampilkan gambar\n",
    "import numpy as np # Library untuk array\n",
    "from PIL import Image #Library \n",
    "from sklearn.metrics import accuracy_score, confusion_matrix #Library untuk menampilkan tabel confussion\n",
    "from sklearn.model_selection import train_test_split # Library untuk mengacak data\n",
    "from sklearn.neighbors import KNeighborsClassifier #Library KNN\n",
    "from sklearn.preprocessing import LabelEncoder #Library labeling\n",
    "from LocalBinaryPattern import LBP #library LBP"
   ]
  },
  {
   "cell_type": "code",
   "execution_count": 23,
   "id": "b5d439e8",
   "metadata": {},
   "outputs": [],
   "source": [
    "# Mengimport dataset\n",
    "def getListOfFiles(dirName):\n",
    "    listOfFile = os.listdir(dirName) # Membuat sebuah array/list untuk menyimpan semua gambar dataset\n",
    "    allFiles = list() # Kemudian ambil setiap file atau folder simpan kedalam varibel listOfFile\n",
    "    for entry in listOfFile: # Melakukan perulangan terhadap setiap file atau folder\n",
    "        # Lakukan pengecekan\n",
    "        fullPath = os.path.join(dirName, entry) # Mengambil alamat folder data\n",
    "        # Jika varibel fullpath adalah sebuah folder maka panggil kembali fungsi getListOfFiles()\n",
    "        # Jika tidak maka akan menambahkan file gambar dataset kedalam varibale allFiles        \n",
    "        if os.path.isdir(fullPath):# Lakukan pengecekan\n",
    "            allFiles = allFiles + getListOfFiles(fullPath)\n",
    "        else:\n",
    "            allFiles.append(fullPath)\n",
    "            # Kemudian ambil setiap file atau folder simpan kedalam varibel listOfFile\n",
    "    return allFiles #mengambil hasil proses dataset\n",
    "\n",
    "imagePaths = getListOfFiles(\"./data/\") #mengambil return (variabel all files)"
   ]
  },
  {
   "cell_type": "code",
   "execution_count": 24,
   "id": "6b1dded2",
   "metadata": {},
   "outputs": [],
   "source": [
    "# Proses Labeling\n",
    "lables = [] #menyimpan label data\n",
    "for image in imagePaths: #memproses semua data dari imagepaths\n",
    "    lable = os.path.split(os.path.split(image)[0])[1] \n",
    "    # membaca file/folder 0= folder data dan 1 = folder citra,kaget dan madu \n",
    "    lables.append(lable) # menyimpan array dari \"lables\"\n",
    "lables = np.array(lables) # np.array (array label data yang dapat diolah)\n",
    "le = LabelEncoder() #library labeling secara data\n",
    "lables = le.fit_transform(lables) #mengubah citra menjadi label 0,1,dan 2"
   ]
  },
  {
   "cell_type": "code",
   "execution_count": null,
   "id": "c71ed82f",
   "metadata": {},
   "outputs": [],
   "source": [
    "data = [] #menyimpan array data\n",
    "for image in imagePaths: #memproses semua data dari imagepaths\n",
    "\n",
    "    img = cv2.imread(image) #membaca gambar\n",
    "    #height, width, _ = img.shape\n",
    "        \n",
    "    img_rgb = cv2.cvtColor(img, cv2.COLOR_BGR2RGB) #proses rgb\n",
    "    \n",
    "    img_resize = cv2.resize(img_rgb, (100,200))\n",
    "    img_gray = cv2.cvtColor(img_resize, cv2.COLOR_RGB2GRAY) #proses rgb ke grayscale\n",
    "\n",
    "    \n",
    "    lbp = LBP(); #proses lbp(library)\n",
    "    img_lbp = lbp.convert(img_gray) #proses grayscale ke lbp\n",
    "    hist_lbp = cv2.calcHist([img_lbp], [0], None, [256], [0, 256]) #proses histogram lbp\n",
    "    data.append(hist_lbp) #menyimpan histogram kedalam array \"data"
   ]
  },
  {
   "cell_type": "code",
   "execution_count": null,
   "id": "4a2b09c8",
   "metadata": {},
   "outputs": [],
   "source": [
    "data = np.array(data) # Library untuk dapat menggunakan array\n",
    "\n",
    "dataset_size = data.shape[0]# menyesuaikan array data set dengan data label\n",
    "data = data.reshape(dataset_size,-1)# menyesuaikan array data set dengan data label\n",
    "trainX, testX, trainY, testY = train_test_split(data, lables, test_size=0.2, random_state=17)\n",
    "#proses pemisahan dataset menjadi datalatih dan datauji, dan random state untuk mengacak data"
   ]
  },
  {
   "cell_type": "code",
   "execution_count": null,
   "id": "80f303b4",
   "metadata": {},
   "outputs": [],
   "source": [
    "knn = KNeighborsClassifier(n_neighbors=2) # Penentuan nilai K\n",
    "knn.fit(trainX, trainY) # Mengambil nilai dari data latih x dan data latih y  \n",
    "prediction=knn.predict(testX) # Melakukan proses prediksi dari data uji\n",
    "acc=accuracy_score(testY, prediction)*100 # Proses perhitungan akurasi\n",
    "from sklearn.metrics import classification_report # library classificarion report\n",
    "print(classification_report(testY, prediction)) # Menampilkan tabel atau hasil presisi, recall, akurasi\n",
    "cm = confusion_matrix(testY, prediction) # Melakukan proses confussion matrix\n",
    "print('Akurasi:', acc) # Menampilkan kata \"akurasi\"\n",
    "print('Confusion Matrix') # Hasil kata \"confussion matrix\"\n",
    "print(cm) # Menampilkan matriks confussion matrix"
   ]
  },
  {
   "cell_type": "code",
   "execution_count": null,
   "id": "ee5e2e22",
   "metadata": {},
   "outputs": [],
   "source": [
    "pickle.dump(knn, open(\"model.sav\", \"wb\"))"
   ]
  },
  {
   "cell_type": "code",
   "execution_count": null,
   "id": "a2fcc8b1",
   "metadata": {},
   "outputs": [],
   "source": [
    "#print (trainX)\n",
    "#print (trainY)\n",
    "#print(testX)\n",
    "#print(testY)\n",
    "#print(prediction)\n",
    "\n",
    "#print(data)"
   ]
  },
  {
   "cell_type": "code",
   "execution_count": null,
   "id": "69d3b27e",
   "metadata": {},
   "outputs": [],
   "source": [
    "from sklearn.model_selection import cross_val_score\n",
    "from numpy import arange\n",
    "\n",
    "s = list(arange(1, 75, 2))\n",
    "scores = []\n",
    "for k in s:\n",
    "    knn = KNeighborsClassifier(n_neighbors=k)\n",
    "    score = cross_val_score(knn, trainX, trainY, scoring='accuracy')\n",
    "    scores.append(score.mean())\n",
    "mse = [1 - x for x in scores]"
   ]
  },
  {
   "cell_type": "code",
   "execution_count": null,
   "id": "b09f3c40",
   "metadata": {},
   "outputs": [],
   "source": [
    "import matplotlib.pyplot as plt\n",
    "plt.plot(s, mse)\n",
    "plt.xlabel('K')\n",
    "plt.ylabel('Mean Squared Error')\n",
    "plt.show()"
   ]
  },
  {
   "cell_type": "code",
   "execution_count": null,
   "id": "e44cbba1",
   "metadata": {},
   "outputs": [],
   "source": [
    "import pandas as pd \n",
    "from sklearn.utils import shuffle\n",
    "\n",
    "df = pd.DataFrame(data)\n",
    "df['label_kelas'] = lables\n",
    "coba = shuffle(df)\n",
    "coba\n",
    "df.to_csv('datahitung.csv')\n",
    "coba"
   ]
  },
  {
   "cell_type": "code",
   "execution_count": null,
   "id": "ab81b041",
   "metadata": {},
   "outputs": [],
   "source": [
    "import pandas as pd \n",
    "df.to_csv(\"datahitung.csv\")"
   ]
  }
 ],
 "metadata": {
  "kernelspec": {
   "display_name": "Python 3",
   "language": "python",
   "name": "python3"
  },
  "language_info": {
   "codemirror_mode": {
    "name": "ipython",
    "version": 3
   },
   "file_extension": ".py",
   "mimetype": "text/x-python",
   "name": "python",
   "nbconvert_exporter": "python",
   "pygments_lexer": "ipython3",
   "version": "3.8.8"
  }
 },
 "nbformat": 4,
 "nbformat_minor": 5
}
